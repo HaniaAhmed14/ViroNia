{
 "cells": [
  {
   "cell_type": "code",
   "execution_count": null,
   "metadata": {
    "vscode": {
     "languageId": "plaintext"
    }
   },
   "outputs": [],
   "source": [
    "from tensorflow.keras.layers import SimpleRNN\n",
    "\n",
    "# Define the Simple RNN model inputs\n",
    "input_seq = Input(shape=(max_len, len(amino_acid_mapping)))\n",
    "\n",
    "# Define RNN layers\n",
    "x = SimpleRNN(256, return_sequences=True)(input_seq)\n",
    "x = SimpleRNN(256)(x)\n",
    "\n",
    "# Define the two outputs\n",
    "broad_output = Dense(len(broad_label_encoder.classes_), activation='softmax', name='broad_output')(x)\n",
    "detailed_output = Dense(len(protein_label_encoder.classes_), activation='softmax', name='detailed_output')(x)\n",
    "\n",
    "# Create the Simple RNN model\n",
    "rnn_model = Model(inputs=input_seq, outputs=[broad_output, detailed_output])\n",
    "\n",
    "# Compile the Simple RNN model\n",
    "rnn_model.compile(optimizer='adam',\n",
    "              loss={'broad_output': 'categorical_crossentropy', 'detailed_output': 'categorical_crossentropy'},\n",
    "              metrics={'broad_output': 'accuracy', 'detailed_output': 'accuracy'})\n",
    "\n",
    "# Train the Simple RNN model\n",
    "history_rnn = rnn_model.fit(\n",
    "    X_train,\n",
    "    {'broad_output': y_broad_train, 'detailed_output': y_train},\n",
    "    epochs=10,\n",
    "    batch_size=32,\n",
    "    validation_split=0.2,\n",
    "    callbacks=[early_stopping],\n",
    "    verbose=1\n",
    ")\n",
    "\n",
    "# Evaluate the Simple RNN model\n",
    "rnn_scores = rnn_model.evaluate(X_test, {'broad_output': y_broad_test, 'detailed_output': y_test}, verbose=1)\n",
    "\n",
    "# Print classification report for Simple RNN\n",
    "print(f\"RNN - Broad classification accuracy: {rnn_scores[3]:.4f}\")\n",
    "print(f\"RNN - Detailed classification accuracy: {rnn_scores[4]:.4f}\")\n"
   ]
  }
 ],
 "metadata": {
  "language_info": {
   "name": "python"
  }
 },
 "nbformat": 4,
 "nbformat_minor": 2
}
