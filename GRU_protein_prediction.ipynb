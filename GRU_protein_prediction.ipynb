{
 "cells": [
  {
   "cell_type": "code",
   "execution_count": null,
   "metadata": {
    "vscode": {
     "languageId": "plaintext"
    }
   },
   "outputs": [],
   "source": [
    "from tensorflow.keras.layers import GRU\n",
    "\n",
    "# Define the GRU model inputs\n",
    "input_seq = Input(shape=(max_len, len(amino_acid_mapping)))\n",
    "\n",
    "# Define GRU layers\n",
    "x = GRU(256, return_sequences=True)(input_seq)\n",
    "x = GRU(256)(x)\n",
    "\n",
    "# Define the two outputs\n",
    "broad_output = Dense(len(broad_label_encoder.classes_), activation='softmax', name='broad_output')(x)\n",
    "detailed_output = Dense(len(protein_label_encoder.classes_), activation='softmax', name='detailed_output')(x)\n",
    "\n",
    "# Create the GRU model\n",
    "gru_model = Model(inputs=input_seq, outputs=[broad_output, detailed_output])\n",
    "\n",
    "# Compile the GRU model\n",
    "gru_model.compile(optimizer='adam',\n",
    "              loss={'broad_output': 'categorical_crossentropy', 'detailed_output': 'categorical_crossentropy'},\n",
    "              metrics={'broad_output': 'accuracy', 'detailed_output': 'accuracy'})\n",
    "\n",
    "# Train the GRU model\n",
    "history_gru = gru_model.fit(\n",
    "    X_train,\n",
    "    {'broad_output': y_broad_train, 'detailed_output': y_train},\n",
    "    epochs=10,\n",
    "    batch_size=32,\n",
    "    validation_split=0.2,\n",
    "    callbacks=[early_stopping],\n",
    "    verbose=1\n",
    ")\n",
    "\n",
    "# Evaluate the GRU model\n",
    "gru_scores = gru_model.evaluate(X_test, {'broad_output': y_broad_test, 'detailed_output': y_test}, verbose=1)\n",
    "\n",
    "# Print classification report for GRU\n",
    "print(f\"GRU - Broad classification accuracy: {gru_scores[3]:.4f}\")\n",
    "print(f\"GRU - Detailed classification accuracy: {gru_scores[4]:.4f}\")\n"
   ]
  }
 ],
 "metadata": {
  "language_info": {
   "name": "python"
  }
 },
 "nbformat": 4,
 "nbformat_minor": 2
}
