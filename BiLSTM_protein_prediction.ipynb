{
 "cells": [
  {
   "cell_type": "code",
   "execution_count": null,
   "metadata": {
    "vscode": {
     "languageId": "plaintext"
    }
   },
   "outputs": [],
   "source": [
    "from tensorflow.keras.layers import Bidirectional, LSTM, Dense, Input\n",
    "from tensorflow.keras.models import Model\n",
    "\n",
    "# Define the BiLSTM model\n",
    "input_seq = Input(shape=(max_len, len(amino_acid_mapping)))\n",
    "\n",
    "# Define Bidirectional LSTM layers\n",
    "x = Bidirectional(LSTM(256, return_sequences=True))(input_seq)\n",
    "x = Bidirectional(LSTM(256))(x)\n",
    "\n",
    "# Broad output\n",
    "broad_output = Dense(len(broad_label_encoder.classes_), activation='softmax', name='broad_output')(x)\n",
    "\n",
    "# Detailed output\n",
    "detailed_output = Dense(len(protein_label_encoder.classes_), activation='softmax', name='detailed_output')(x)\n",
    "\n",
    "# Create and compile the model\n",
    "model_bilstm = Model(inputs=input_seq, outputs=[broad_output, detailed_output])\n",
    "model_bilstm.compile(optimizer='adam',\n",
    "                     loss={'broad_output': 'categorical_crossentropy', 'detailed_output': 'categorical_crossentropy'},\n",
    "                     metrics={'broad_output': 'accuracy', 'detailed_output': 'accuracy'})\n",
    "\n",
    "# Model summary\n",
    "model_bilstm.summary()\n",
    "\n",
    "# Train the BiLSTM model\n",
    "history_bilstm = model_bilstm.fit(\n",
    "    X_train,\n",
    "    {'broad_output': y_broad_train, 'detailed_output': y_train},\n",
    "    epochs=10,  # Adjust epochs\n",
    "    batch_size=32,  # Adjust batch size\n",
    "    validation_split=0.2,\n",
    "    callbacks=[early_stopping]  # Using EarlyStopping as before\n",
    ")\n",
    "\n",
    "# Evaluate the model\n",
    "model_bilstm.evaluate(X_test, [y_broad_test, y_test])\n"
   ]
  }
 ],
 "metadata": {
  "language_info": {
   "name": "python"
  }
 },
 "nbformat": 4,
 "nbformat_minor": 2
}
